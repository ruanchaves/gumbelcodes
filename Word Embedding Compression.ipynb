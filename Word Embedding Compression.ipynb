{
 "cells": [
  {
   "cell_type": "code",
   "execution_count": 8,
   "metadata": {},
   "outputs": [
    {
     "data": {
      "text/plain": [
       "989"
      ]
     },
     "execution_count": 8,
     "metadata": {},
     "output_type": "execute_result"
    }
   ],
   "source": [
    "import os\n",
    "\n",
    "glove_path = \"./data/glove.6B.300d.txt\"\n",
    "\n",
    "get_size_in_MB = lambda x: os.path.getsize(x) >> 20\n",
    "get_size_in_MB(glove_path)"
   ]
  },
  {
   "cell_type": "code",
   "execution_count": 13,
   "metadata": {},
   "outputs": [],
   "source": [
    "import spacy\n",
    "import en_core_web_sm\n",
    "from gumbelcodes.models import SentimentPipeline"
   ]
  },
  {
   "cell_type": "code",
   "execution_count": 22,
   "metadata": {},
   "outputs": [],
   "source": [
    "english = en_core_web_sm.load()\n",
    "sentiment = SentimentPipeline(nlp=english, path=glove_path)"
   ]
  },
  {
   "cell_type": "code",
   "execution_count": 23,
   "metadata": {},
   "outputs": [
    {
     "data": {
      "text/html": [
       "<div>\n",
       "<style scoped>\n",
       "    .dataframe tbody tr th:only-of-type {\n",
       "        vertical-align: middle;\n",
       "    }\n",
       "\n",
       "    .dataframe tbody tr th {\n",
       "        vertical-align: top;\n",
       "    }\n",
       "\n",
       "    .dataframe thead th {\n",
       "        text-align: right;\n",
       "    }\n",
       "</style>\n",
       "<table border=\"1\" class=\"dataframe\">\n",
       "  <thead>\n",
       "    <tr style=\"text-align: right;\">\n",
       "      <th></th>\n",
       "      <th>sentence</th>\n",
       "      <th>label</th>\n",
       "    </tr>\n",
       "  </thead>\n",
       "  <tbody>\n",
       "    <tr>\n",
       "      <th>34667</th>\n",
       "      <td>layer of action man cliché atop wooden dialogu...</td>\n",
       "      <td>0</td>\n",
       "    </tr>\n",
       "    <tr>\n",
       "      <th>30705</th>\n",
       "      <td>coherent well shot</td>\n",
       "      <td>1</td>\n",
       "    </tr>\n",
       "    <tr>\n",
       "      <th>65784</th>\n",
       "      <td>no unifying rhythm or</td>\n",
       "      <td>0</td>\n",
       "    </tr>\n",
       "    <tr>\n",
       "      <th>51943</th>\n",
       "      <td>obvious</td>\n",
       "      <td>0</td>\n",
       "    </tr>\n",
       "    <tr>\n",
       "      <th>15062</th>\n",
       "      <td>sumptuous ocean visuals and the cinematic styl...</td>\n",
       "      <td>1</td>\n",
       "    </tr>\n",
       "  </tbody>\n",
       "</table>\n",
       "</div>"
      ],
      "text/plain": [
       "                                                sentence  label\n",
       "34667  layer of action man cliché atop wooden dialogu...      0\n",
       "30705                                 coherent well shot      1\n",
       "65784                              no unifying rhythm or      0\n",
       "51943                                            obvious      0\n",
       "15062  sumptuous ocean visuals and the cinematic styl...      1"
      ]
     },
     "execution_count": 23,
     "metadata": {},
     "output_type": "execute_result"
    }
   ],
   "source": [
    "result = sentiment.execute()"
   ]
  },
  {
   "cell_type": "code",
   "execution_count": null,
   "metadata": {},
   "outputs": [],
   "source": [
    "result"
   ]
  },
  {
   "cell_type": "code",
   "execution_count": null,
   "metadata": {},
   "outputs": [],
   "source": [
    "from gumbelcodes.nncompress.pipeline import Pipeline as gumbelcodesPipeline\n",
    "\n",
    "target_path = \"data/glove.6B.300d.npy\"\n",
    "\n",
    "options = {\n",
    "            \"codebook_prefix\": \"data/glove.6B.300d\",\n",
    "            \"dimension\": 300,\n",
    "            \"source_path\": glove_path,\n",
    "            \"target_path\": target_path,\n",
    "            \"logging\": True\n",
    "        }\n",
    "\n",
    "pipe = gumbelcodesPipeline(**options)\n",
    "\n",
    "pipe.get_embeddings()\n",
    "pipe.train()"
   ]
  },
  {
   "cell_type": "code",
   "execution_count": 9,
   "metadata": {},
   "outputs": [
    {
     "data": {
      "text/plain": [
       "457"
      ]
     },
     "execution_count": 9,
     "metadata": {},
     "output_type": "execute_result"
    }
   ],
   "source": [
    "get_size_in_MB(target_path)"
   ]
  },
  {
   "cell_type": "code",
   "execution_count": 5,
   "metadata": {},
   "outputs": [
    {
     "data": {
      "text/plain": [
       "29"
      ]
     },
     "execution_count": 5,
     "metadata": {},
     "output_type": "execute_result"
    }
   ],
   "source": [
    "codes_path = 'data/glove.6B.300d_.codes'\n",
    "codebook_path = 'data/glove.6B.300d_.codebook.npy'\n",
    "get_size_in_MB(codes_path) + get_size_in_MB(codebook_path)"
   ]
  },
  {
   "cell_type": "code",
   "execution_count": null,
   "metadata": {},
   "outputs": [],
   "source": [
    "from gumbelcodes.utils.matutils import trim\n",
    "npz_target_path = 'data/glove.6B.300d.npz'\n",
    "\n",
    "trim(codes_path, codebook_path, target_path)\n",
    "get_size_in_MB(target_path)"
   ]
  },
  {
   "cell_type": "code",
   "execution_count": null,
   "metadata": {},
   "outputs": [],
   "source": [
    "\n",
    "from gumbelcodes.utils.fileutils import decompress, expand\n",
    "\n",
    "codes, codebook = decompress(npz_target_path)\n",
    "\n",
    "words_path = 'data/glove.6B.300d.words'\n",
    "expanded_file_target_path = 'data/quantized_glove.6B.300d.txt'\n",
    "\n",
    "expand(words_path, codes, codebook, expanded_file_target_path)"
   ]
  },
  {
   "cell_type": "code",
   "execution_count": null,
   "metadata": {},
   "outputs": [],
   "source": [
    "get_size_in_MB(expanded_file_target_path)"
   ]
  },
  {
   "cell_type": "code",
   "execution_count": null,
   "metadata": {},
   "outputs": [],
   "source": [
    "glove_path = expanded_file_target_path\n",
    "\n",
    "english = en_core_web_sm.load()\n",
    "sentiment = SentimentPipeline(nlp=english, path=glove_path)"
   ]
  },
  {
   "cell_type": "code",
   "execution_count": null,
   "metadata": {},
   "outputs": [],
   "source": [
    "result = sentiment.execute()"
   ]
  },
  {
   "cell_type": "code",
   "execution_count": null,
   "metadata": {},
   "outputs": [],
   "source": [
    "result"
   ]
  }
 ],
 "metadata": {
  "kernelspec": {
   "display_name": "Python 3",
   "language": "python",
   "name": "python3"
  },
  "language_info": {
   "codemirror_mode": {
    "name": "ipython",
    "version": 3
   },
   "file_extension": ".py",
   "mimetype": "text/x-python",
   "name": "python",
   "nbconvert_exporter": "python",
   "pygments_lexer": "ipython3",
   "version": "3.6.10"
  }
 },
 "nbformat": 4,
 "nbformat_minor": 2
}
