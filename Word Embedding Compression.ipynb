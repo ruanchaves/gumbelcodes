{
 "cells": [
  {
   "cell_type": "code",
   "execution_count": 1,
   "metadata": {},
   "outputs": [
    {
     "name": "stderr",
     "output_type": "stream",
     "text": [
      "Using TensorFlow backend.\n",
      "/home/user/summer/gumbelcodes/testenv/lib/python3.6/site-packages/tensorflow/python/framework/dtypes.py:516: FutureWarning: Passing (type, 1) or '1type' as a synonym of type is deprecated; in a future version of numpy, it will be understood as (type, (1,)) / '(1,)type'.\n",
      "  _np_qint8 = np.dtype([(\"qint8\", np.int8, 1)])\n",
      "/home/user/summer/gumbelcodes/testenv/lib/python3.6/site-packages/tensorflow/python/framework/dtypes.py:517: FutureWarning: Passing (type, 1) or '1type' as a synonym of type is deprecated; in a future version of numpy, it will be understood as (type, (1,)) / '(1,)type'.\n",
      "  _np_quint8 = np.dtype([(\"quint8\", np.uint8, 1)])\n",
      "/home/user/summer/gumbelcodes/testenv/lib/python3.6/site-packages/tensorflow/python/framework/dtypes.py:518: FutureWarning: Passing (type, 1) or '1type' as a synonym of type is deprecated; in a future version of numpy, it will be understood as (type, (1,)) / '(1,)type'.\n",
      "  _np_qint16 = np.dtype([(\"qint16\", np.int16, 1)])\n",
      "/home/user/summer/gumbelcodes/testenv/lib/python3.6/site-packages/tensorflow/python/framework/dtypes.py:519: FutureWarning: Passing (type, 1) or '1type' as a synonym of type is deprecated; in a future version of numpy, it will be understood as (type, (1,)) / '(1,)type'.\n",
      "  _np_quint16 = np.dtype([(\"quint16\", np.uint16, 1)])\n",
      "/home/user/summer/gumbelcodes/testenv/lib/python3.6/site-packages/tensorflow/python/framework/dtypes.py:520: FutureWarning: Passing (type, 1) or '1type' as a synonym of type is deprecated; in a future version of numpy, it will be understood as (type, (1,)) / '(1,)type'.\n",
      "  _np_qint32 = np.dtype([(\"qint32\", np.int32, 1)])\n",
      "/home/user/summer/gumbelcodes/testenv/lib/python3.6/site-packages/tensorflow/python/framework/dtypes.py:525: FutureWarning: Passing (type, 1) or '1type' as a synonym of type is deprecated; in a future version of numpy, it will be understood as (type, (1,)) / '(1,)type'.\n",
      "  np_resource = np.dtype([(\"resource\", np.ubyte, 1)])\n",
      "/home/user/summer/gumbelcodes/testenv/lib/python3.6/site-packages/tensorboard/compat/tensorflow_stub/dtypes.py:541: FutureWarning: Passing (type, 1) or '1type' as a synonym of type is deprecated; in a future version of numpy, it will be understood as (type, (1,)) / '(1,)type'.\n",
      "  _np_qint8 = np.dtype([(\"qint8\", np.int8, 1)])\n",
      "/home/user/summer/gumbelcodes/testenv/lib/python3.6/site-packages/tensorboard/compat/tensorflow_stub/dtypes.py:542: FutureWarning: Passing (type, 1) or '1type' as a synonym of type is deprecated; in a future version of numpy, it will be understood as (type, (1,)) / '(1,)type'.\n",
      "  _np_quint8 = np.dtype([(\"quint8\", np.uint8, 1)])\n",
      "/home/user/summer/gumbelcodes/testenv/lib/python3.6/site-packages/tensorboard/compat/tensorflow_stub/dtypes.py:543: FutureWarning: Passing (type, 1) or '1type' as a synonym of type is deprecated; in a future version of numpy, it will be understood as (type, (1,)) / '(1,)type'.\n",
      "  _np_qint16 = np.dtype([(\"qint16\", np.int16, 1)])\n",
      "/home/user/summer/gumbelcodes/testenv/lib/python3.6/site-packages/tensorboard/compat/tensorflow_stub/dtypes.py:544: FutureWarning: Passing (type, 1) or '1type' as a synonym of type is deprecated; in a future version of numpy, it will be understood as (type, (1,)) / '(1,)type'.\n",
      "  _np_quint16 = np.dtype([(\"quint16\", np.uint16, 1)])\n",
      "/home/user/summer/gumbelcodes/testenv/lib/python3.6/site-packages/tensorboard/compat/tensorflow_stub/dtypes.py:545: FutureWarning: Passing (type, 1) or '1type' as a synonym of type is deprecated; in a future version of numpy, it will be understood as (type, (1,)) / '(1,)type'.\n",
      "  _np_qint32 = np.dtype([(\"qint32\", np.int32, 1)])\n",
      "/home/user/summer/gumbelcodes/testenv/lib/python3.6/site-packages/tensorboard/compat/tensorflow_stub/dtypes.py:550: FutureWarning: Passing (type, 1) or '1type' as a synonym of type is deprecated; in a future version of numpy, it will be understood as (type, (1,)) / '(1,)type'.\n",
      "  np_resource = np.dtype([(\"resource\", np.ubyte, 1)])\n"
     ]
    }
   ],
   "source": [
    "import warnings\n",
    "warnings.filterwarnings('ignore')\n",
    "\n",
    "from gumbelcodes.utils.fileutils import expand_from_files\n",
    "from gumbelcodes.models.sentiment import SentimentPipeline\n",
    "\n",
    "import os\n",
    "\n",
    "import spacy\n",
    "import en_core_web_sm"
   ]
  },
  {
   "cell_type": "code",
   "execution_count": 3,
   "metadata": {},
   "outputs": [
    {
     "data": {
      "text/plain": [
       "989"
      ]
     },
     "execution_count": 3,
     "metadata": {},
     "output_type": "execute_result"
    }
   ],
   "source": [
    "import os\n",
    "\n",
    "glove_path = \"./data/glove.6B.300d.txt\"\n",
    "\n",
    "get_size_in_MB = lambda x: os.path.getsize(x) >> 20\n",
    "get_size_in_MB(glove_path)"
   ]
  },
  {
   "cell_type": "code",
   "execution_count": 7,
   "metadata": {},
   "outputs": [
    {
     "name": "stderr",
     "output_type": "stream",
     "text": [
      "Using TensorFlow backend.\n"
     ]
    }
   ],
   "source": [
    "import warnings\n",
    "warnings.filterwarnings('ignore')\n",
    "\n",
    "import spacy\n",
    "import en_core_web_sm\n",
    "from gumbelcodes.models.sentiment import SentimentPipeline"
   ]
  },
  {
   "cell_type": "code",
   "execution_count": 13,
   "metadata": {},
   "outputs": [],
   "source": [
    "english = en_core_web_sm.load()\n",
    "sentiment = SentimentPipeline(nlp=english, path=glove_path)"
   ]
  },
  {
   "cell_type": "code",
   "execution_count": 14,
   "metadata": {},
   "outputs": [
    {
     "name": "stdout",
     "output_type": "stream",
     "text": [
      "{'Matthews correlation coefficient': 0.781268692128954, 'Accuracy score': 0.8913372746372209}\n"
     ]
    }
   ],
   "source": [
    "history, result = sentiment.execute_sentiment_pipeline()\n",
    "print(result)"
   ]
  },
  {
   "cell_type": "code",
   "execution_count": 3,
   "metadata": {},
   "outputs": [
    {
     "name": "stderr",
     "output_type": "stream",
     "text": [
      "2019-12-27 00:00:02.759 | DEBUG    | gumbelcodes.nncompress.pipeline:__init__:42 - Source: ./data/glove.6B.300d.txt \n",
      " Target: data/glove.6B.300d.npy\n",
      "2019-12-27 00:00:03.859 | DEBUG    | gumbelcodes.nncompress.pipeline:get_embeddings:49 - Embedding shape: (400000, 300)\n"
     ]
    },
    {
     "name": "stdout",
     "output_type": "stream",
     "text": [
      "WARNING:tensorflow:From /home/user/summer/gumbelcodes/testenv/lib/python3.6/site-packages/gumbelcodes/nncompress/embed_compress.py:157: The name tf.Session is deprecated. Please use tf.compat.v1.Session instead.\n",
      "\n",
      "WARNING:tensorflow:From /home/user/summer/gumbelcodes/testenv/lib/python3.6/site-packages/gumbelcodes/nncompress/embed_compress.py:158: The name tf.variable_scope is deprecated. Please use tf.compat.v1.variable_scope instead.\n",
      "\n",
      "WARNING:tensorflow:From /home/user/summer/gumbelcodes/testenv/lib/python3.6/site-packages/gumbelcodes/nncompress/embed_compress.py:115: The name tf.placeholder_with_default is deprecated. Please use tf.compat.v1.placeholder_with_default instead.\n",
      "\n",
      "WARNING:tensorflow:From /home/user/summer/gumbelcodes/testenv/lib/python3.6/site-packages/gumbelcodes/nncompress/embed_compress.py:120: The name tf.get_variable is deprecated. Please use tf.compat.v1.get_variable instead.\n",
      "\n",
      "WARNING:tensorflow:From /home/user/summer/gumbelcodes/testenv/lib/python3.6/site-packages/tensorflow/contrib/rnn/python/ops/core_rnn_cell.py:183: calling Constant.__init__ (from tensorflow.python.ops.init_ops) with dtype is deprecated and will be removed in a future version.\n",
      "Instructions for updating:\n",
      "Call initializer instance with the dtype argument instead of passing it to the constructor\n",
      "WARNING:tensorflow:From /home/user/summer/gumbelcodes/testenv/lib/python3.6/site-packages/gumbelcodes/nncompress/embed_compress.py:66: The name tf.log is deprecated. Please use tf.math.log instead.\n",
      "\n",
      "WARNING:tensorflow:From /home/user/summer/gumbelcodes/testenv/lib/python3.6/site-packages/tensorflow/python/ops/math_grad.py:1205: add_dispatch_support.<locals>.wrapper (from tensorflow.python.ops.array_ops) is deprecated and will be removed in a future version.\n",
      "Instructions for updating:\n",
      "Use tf.where in 2.0, which has the same broadcast rule as np.where\n",
      "WARNING:tensorflow:From /home/user/summer/gumbelcodes/testenv/lib/python3.6/site-packages/gumbelcodes/nncompress/embed_compress.py:143: The name tf.train.AdamOptimizer is deprecated. Please use tf.compat.v1.train.AdamOptimizer instead.\n",
      "\n",
      "WARNING:tensorflow:From /home/user/summer/gumbelcodes/testenv/lib/python3.6/site-packages/gumbelcodes/nncompress/embed_compress.py:163: The name tf.train.Saver is deprecated. Please use tf.compat.v1.train.Saver instead.\n",
      "\n",
      "[epoch0] trian_loss=18.58 train_maxp=0.52 valid_loss=17.10 valid_maxp=0.60 bps=324 *\n",
      "[epoch1] trian_loss=16.61 train_maxp=0.63 valid_loss=15.36 valid_maxp=0.65 bps=380 *\n",
      "[epoch2] trian_loss=15.16 train_maxp=0.65 valid_loss=14.24 valid_maxp=0.65 bps=383 *\n",
      "[epoch3] trian_loss=14.24 train_maxp=0.65 valid_loss=13.55 valid_maxp=0.65 bps=381 *\n",
      "[epoch4] trian_loss=13.58 train_maxp=0.65 valid_loss=12.99 valid_maxp=0.65 bps=383 *\n",
      "[epoch5] trian_loss=13.06 train_maxp=0.65 valid_loss=12.53 valid_maxp=0.65 bps=381 *\n",
      "[epoch6] trian_loss=12.64 train_maxp=0.66 valid_loss=12.18 valid_maxp=0.65 bps=396 *\n",
      "[epoch7] trian_loss=12.31 train_maxp=0.66 valid_loss=11.87 valid_maxp=0.66 bps=394 *\n",
      "[epoch8] trian_loss=12.04 train_maxp=0.66 valid_loss=11.59 valid_maxp=0.66 bps=404 *\n",
      "[epoch9] trian_loss=11.82 train_maxp=0.66 valid_loss=11.42 valid_maxp=0.66 bps=394 *\n",
      "[epoch10] trian_loss=11.62 train_maxp=0.66 valid_loss=11.23 valid_maxp=0.66 bps=391 *\n",
      "[epoch11] trian_loss=11.44 train_maxp=0.66 valid_loss=11.03 valid_maxp=0.66 bps=393 *\n",
      "[epoch12] trian_loss=11.29 train_maxp=0.67 valid_loss=10.90 valid_maxp=0.67 bps=379 *\n",
      "[epoch13] trian_loss=11.15 train_maxp=0.67 valid_loss=10.80 valid_maxp=0.67 bps=384 *\n",
      "[epoch14] trian_loss=11.03 train_maxp=0.67 valid_loss=10.70 valid_maxp=0.67 bps=382 *\n",
      "[epoch15] trian_loss=10.92 train_maxp=0.67 valid_loss=10.56 valid_maxp=0.67 bps=386 *\n",
      "[epoch16] trian_loss=10.83 train_maxp=0.67 valid_loss=10.48 valid_maxp=0.67 bps=393 *\n",
      "[epoch17] trian_loss=10.74 train_maxp=0.67 valid_loss=10.43 valid_maxp=0.67 bps=382 *\n",
      "[epoch18] trian_loss=10.66 train_maxp=0.67 valid_loss=10.34 valid_maxp=0.67 bps=379 *\n",
      "[epoch19] trian_loss=10.58 train_maxp=0.67 valid_loss=10.29 valid_maxp=0.67 bps=373 *\n",
      "[epoch20] trian_loss=10.50 train_maxp=0.68 valid_loss=10.19 valid_maxp=0.68 bps=388 *\n",
      "[epoch21] trian_loss=10.44 train_maxp=0.68 valid_loss=10.16 valid_maxp=0.67 bps=372 *\n",
      "[epoch22] trian_loss=10.37 train_maxp=0.68 valid_loss=10.04 valid_maxp=0.67 bps=380 *\n",
      "[epoch23] trian_loss=10.31 train_maxp=0.68 valid_loss=10.01 valid_maxp=0.68 bps=379 *\n",
      "[epoch24] trian_loss=10.24 train_maxp=0.68 valid_loss=9.96 valid_maxp=0.68 bps=386 *\n",
      "[epoch25] trian_loss=10.18 train_maxp=0.68 valid_loss=9.87 valid_maxp=0.68 bps=385 *\n",
      "[epoch26] trian_loss=10.12 train_maxp=0.68 valid_loss=9.83 valid_maxp=0.68 bps=385 *\n",
      "[epoch27] trian_loss=10.07 train_maxp=0.68 valid_loss=9.75 valid_maxp=0.68 bps=380 *\n",
      "[epoch28] trian_loss=10.02 train_maxp=0.68 valid_loss=9.72 valid_maxp=0.68 bps=384 *\n",
      "[epoch29] trian_loss=9.97 train_maxp=0.68 valid_loss=9.66 valid_maxp=0.68 bps=394 *\n",
      "[epoch30] trian_loss=9.93 train_maxp=0.68 valid_loss=9.63 valid_maxp=0.68 bps=382 *\n",
      "[epoch31] trian_loss=9.88 train_maxp=0.68 valid_loss=9.61 valid_maxp=0.68 bps=388 *\n",
      "[epoch32] trian_loss=9.84 train_maxp=0.68 valid_loss=9.51 valid_maxp=0.68 bps=380 *\n",
      "[epoch33] trian_loss=9.80 train_maxp=0.68 valid_loss=9.50 valid_maxp=0.68 bps=384 *\n",
      "[epoch34] trian_loss=9.76 train_maxp=0.68 valid_loss=9.47 valid_maxp=0.69 bps=388 *\n",
      "[epoch35] trian_loss=9.73 train_maxp=0.69 valid_loss=9.41 valid_maxp=0.68 bps=384 *\n",
      "[epoch36] trian_loss=9.69 train_maxp=0.69 valid_loss=9.43 valid_maxp=0.69 bps=385 \n",
      "[epoch37] trian_loss=9.66 train_maxp=0.69 valid_loss=9.37 valid_maxp=0.69 bps=375 *\n",
      "[epoch38] trian_loss=9.62 train_maxp=0.69 valid_loss=9.32 valid_maxp=0.69 bps=388 *\n",
      "[epoch39] trian_loss=9.59 train_maxp=0.69 valid_loss=9.30 valid_maxp=0.69 bps=385 *\n",
      "[epoch40] trian_loss=9.56 train_maxp=0.69 valid_loss=9.25 valid_maxp=0.69 bps=386 *\n",
      "[epoch41] trian_loss=9.54 train_maxp=0.69 valid_loss=9.23 valid_maxp=0.69 bps=386 *\n",
      "[epoch42] trian_loss=9.51 train_maxp=0.69 valid_loss=9.20 valid_maxp=0.69 bps=383 *\n",
      "[epoch43] trian_loss=9.47 train_maxp=0.69 valid_loss=9.22 valid_maxp=0.69 bps=385 \n",
      "[epoch44] trian_loss=9.44 train_maxp=0.69 valid_loss=9.16 valid_maxp=0.69 bps=385 *\n",
      "[epoch45] trian_loss=9.42 train_maxp=0.69 valid_loss=9.15 valid_maxp=0.69 bps=382 *\n",
      "[epoch46] trian_loss=9.39 train_maxp=0.69 valid_loss=9.09 valid_maxp=0.69 bps=385 *\n",
      "[epoch47] trian_loss=9.37 train_maxp=0.69 valid_loss=9.09 valid_maxp=0.69 bps=381 \n",
      "[epoch48] trian_loss=9.35 train_maxp=0.69 valid_loss=9.07 valid_maxp=0.69 bps=383 *\n",
      "[epoch49] trian_loss=9.33 train_maxp=0.69 valid_loss=9.09 valid_maxp=0.69 bps=382 \n",
      "[epoch50] trian_loss=9.31 train_maxp=0.69 valid_loss=9.04 valid_maxp=0.69 bps=379 *\n",
      "[epoch51] trian_loss=9.29 train_maxp=0.69 valid_loss=9.05 valid_maxp=0.69 bps=384 \n",
      "[epoch52] trian_loss=9.27 train_maxp=0.69 valid_loss=9.01 valid_maxp=0.69 bps=385 *\n",
      "[epoch53] trian_loss=9.25 train_maxp=0.69 valid_loss=9.00 valid_maxp=0.69 bps=386 *\n",
      "[epoch54] trian_loss=9.23 train_maxp=0.69 valid_loss=8.96 valid_maxp=0.69 bps=390 *\n",
      "[epoch55] trian_loss=9.22 train_maxp=0.69 valid_loss=8.93 valid_maxp=0.69 bps=385 *\n",
      "[epoch56] trian_loss=9.20 train_maxp=0.69 valid_loss=8.91 valid_maxp=0.69 bps=384 *\n",
      "[epoch57] trian_loss=9.19 train_maxp=0.69 valid_loss=8.93 valid_maxp=0.69 bps=391 \n",
      "[epoch58] trian_loss=9.17 train_maxp=0.69 valid_loss=8.88 valid_maxp=0.69 bps=389 *\n",
      "[epoch59] trian_loss=9.16 train_maxp=0.70 valid_loss=8.87 valid_maxp=0.70 bps=387 *\n",
      "[epoch60] trian_loss=9.14 train_maxp=0.70 valid_loss=8.88 valid_maxp=0.70 bps=393 \n",
      "[epoch61] trian_loss=9.13 train_maxp=0.70 valid_loss=8.87 valid_maxp=0.70 bps=392 \n",
      "[epoch62] trian_loss=9.11 train_maxp=0.70 valid_loss=8.83 valid_maxp=0.69 bps=390 *\n",
      "[epoch63] trian_loss=9.10 train_maxp=0.70 valid_loss=8.81 valid_maxp=0.70 bps=392 *\n",
      "[epoch64] trian_loss=9.09 train_maxp=0.70 valid_loss=8.78 valid_maxp=0.69 bps=386 *\n",
      "[epoch65] trian_loss=9.08 train_maxp=0.70 valid_loss=8.81 valid_maxp=0.70 bps=395 \n",
      "[epoch66] trian_loss=9.06 train_maxp=0.70 valid_loss=8.79 valid_maxp=0.70 bps=395 \n",
      "[epoch67] trian_loss=9.05 train_maxp=0.70 valid_loss=8.82 valid_maxp=0.70 bps=393 \n",
      "[epoch68] trian_loss=9.04 train_maxp=0.70 valid_loss=8.77 valid_maxp=0.70 bps=389 *\n",
      "[epoch69] trian_loss=9.03 train_maxp=0.70 valid_loss=8.74 valid_maxp=0.70 bps=389 *\n"
     ]
    },
    {
     "name": "stdout",
     "output_type": "stream",
     "text": [
      "[epoch70] trian_loss=9.02 train_maxp=0.70 valid_loss=8.75 valid_maxp=0.70 bps=390 \n",
      "[epoch71] trian_loss=9.01 train_maxp=0.70 valid_loss=8.74 valid_maxp=0.70 bps=383 \n",
      "[epoch72] trian_loss=9.00 train_maxp=0.70 valid_loss=8.72 valid_maxp=0.70 bps=387 *\n",
      "[epoch73] trian_loss=8.99 train_maxp=0.70 valid_loss=8.73 valid_maxp=0.70 bps=388 \n",
      "[epoch74] trian_loss=8.98 train_maxp=0.70 valid_loss=8.72 valid_maxp=0.70 bps=387 \n",
      "[epoch75] trian_loss=8.97 train_maxp=0.70 valid_loss=8.70 valid_maxp=0.70 bps=390 *\n",
      "[epoch76] trian_loss=8.96 train_maxp=0.70 valid_loss=8.69 valid_maxp=0.70 bps=398 *\n",
      "[epoch77] trian_loss=8.96 train_maxp=0.70 valid_loss=8.65 valid_maxp=0.70 bps=397 *\n",
      "[epoch78] trian_loss=8.95 train_maxp=0.70 valid_loss=8.68 valid_maxp=0.70 bps=389 \n",
      "[epoch79] trian_loss=8.94 train_maxp=0.70 valid_loss=8.67 valid_maxp=0.70 bps=386 \n",
      "[epoch80] trian_loss=8.93 train_maxp=0.70 valid_loss=8.69 valid_maxp=0.70 bps=384 \n",
      "[epoch81] trian_loss=8.92 train_maxp=0.70 valid_loss=8.67 valid_maxp=0.70 bps=388 \n",
      "[epoch82] trian_loss=8.91 train_maxp=0.70 valid_loss=8.65 valid_maxp=0.70 bps=392 \n",
      "[epoch83] trian_loss=8.91 train_maxp=0.70 valid_loss=8.67 valid_maxp=0.70 bps=385 \n",
      "[epoch84] trian_loss=8.90 train_maxp=0.70 valid_loss=8.66 valid_maxp=0.70 bps=385 \n",
      "[epoch85] trian_loss=8.89 train_maxp=0.70 valid_loss=8.64 valid_maxp=0.70 bps=384 *\n",
      "[epoch86] trian_loss=8.89 train_maxp=0.70 valid_loss=8.63 valid_maxp=0.70 bps=381 *\n",
      "[epoch87] trian_loss=8.88 train_maxp=0.70 valid_loss=8.59 valid_maxp=0.70 bps=383 *\n",
      "[epoch88] trian_loss=8.87 train_maxp=0.70 valid_loss=8.62 valid_maxp=0.70 bps=378 \n",
      "[epoch89] trian_loss=8.87 train_maxp=0.70 valid_loss=8.60 valid_maxp=0.70 bps=378 \n",
      "[epoch90] trian_loss=8.86 train_maxp=0.70 valid_loss=8.62 valid_maxp=0.70 bps=388 \n",
      "[epoch91] trian_loss=8.86 train_maxp=0.70 valid_loss=8.60 valid_maxp=0.70 bps=383 \n",
      "[epoch92] trian_loss=8.85 train_maxp=0.70 valid_loss=8.61 valid_maxp=0.70 bps=389 \n",
      "[epoch93] trian_loss=8.84 train_maxp=0.70 valid_loss=8.56 valid_maxp=0.70 bps=388 *\n",
      "[epoch94] trian_loss=8.84 train_maxp=0.70 valid_loss=8.58 valid_maxp=0.70 bps=387 \n",
      "[epoch95] trian_loss=8.84 train_maxp=0.70 valid_loss=8.58 valid_maxp=0.70 bps=386 \n",
      "[epoch96] trian_loss=8.83 train_maxp=0.70 valid_loss=8.58 valid_maxp=0.70 bps=394 \n",
      "[epoch97] trian_loss=8.82 train_maxp=0.70 valid_loss=8.54 valid_maxp=0.70 bps=395 *\n",
      "[epoch98] trian_loss=8.82 train_maxp=0.70 valid_loss=8.58 valid_maxp=0.70 bps=389 \n",
      "[epoch99] trian_loss=8.81 train_maxp=0.70 valid_loss=8.58 valid_maxp=0.70 bps=389 \n",
      "[epoch100] trian_loss=8.81 train_maxp=0.70 valid_loss=8.59 valid_maxp=0.70 bps=395 \n",
      "[epoch101] trian_loss=8.80 train_maxp=0.70 valid_loss=8.56 valid_maxp=0.70 bps=389 \n",
      "[epoch102] trian_loss=8.80 train_maxp=0.70 valid_loss=8.48 valid_maxp=0.70 bps=389 *\n",
      "[epoch103] trian_loss=8.79 train_maxp=0.70 valid_loss=8.52 valid_maxp=0.70 bps=388 \n",
      "[epoch104] trian_loss=8.79 train_maxp=0.70 valid_loss=8.57 valid_maxp=0.70 bps=385 \n",
      "[epoch105] trian_loss=8.78 train_maxp=0.70 valid_loss=8.55 valid_maxp=0.70 bps=387 \n",
      "[epoch106] trian_loss=8.78 train_maxp=0.70 valid_loss=8.54 valid_maxp=0.70 bps=394 \n",
      "[epoch107] trian_loss=8.77 train_maxp=0.70 valid_loss=8.51 valid_maxp=0.70 bps=389 \n",
      "[epoch108] trian_loss=8.77 train_maxp=0.70 valid_loss=8.52 valid_maxp=0.70 bps=391 \n",
      "[epoch109] trian_loss=8.77 train_maxp=0.70 valid_loss=8.52 valid_maxp=0.70 bps=388 \n",
      "[epoch110] trian_loss=8.76 train_maxp=0.70 valid_loss=8.50 valid_maxp=0.70 bps=378 \n",
      "[epoch111] trian_loss=8.76 train_maxp=0.70 valid_loss=8.50 valid_maxp=0.70 bps=379 \n",
      "[epoch112] trian_loss=8.75 train_maxp=0.70 valid_loss=8.52 valid_maxp=0.70 bps=387 \n",
      "[epoch113] trian_loss=8.75 train_maxp=0.70 valid_loss=8.56 valid_maxp=0.70 bps=385 \n",
      "[epoch114] trian_loss=8.75 train_maxp=0.70 valid_loss=8.49 valid_maxp=0.70 bps=379 \n",
      "[epoch115] trian_loss=8.74 train_maxp=0.70 valid_loss=8.52 valid_maxp=0.71 bps=384 \n",
      "[epoch116] trian_loss=8.74 train_maxp=0.70 valid_loss=8.48 valid_maxp=0.70 bps=387 \n",
      "[epoch117] trian_loss=8.73 train_maxp=0.70 valid_loss=8.50 valid_maxp=0.71 bps=388 \n",
      "[epoch118] trian_loss=8.73 train_maxp=0.70 valid_loss=8.48 valid_maxp=0.70 bps=392 \n",
      "[epoch119] trian_loss=8.73 train_maxp=0.70 valid_loss=8.49 valid_maxp=0.70 bps=390 \n",
      "[epoch120] trian_loss=8.72 train_maxp=0.70 valid_loss=8.48 valid_maxp=0.70 bps=389 \n",
      "[epoch121] trian_loss=8.72 train_maxp=0.70 valid_loss=8.48 valid_maxp=0.70 bps=387 \n",
      "[epoch122] trian_loss=8.72 train_maxp=0.70 valid_loss=8.46 valid_maxp=0.70 bps=393 *\n",
      "[epoch123] trian_loss=8.71 train_maxp=0.70 valid_loss=8.50 valid_maxp=0.70 bps=392 \n",
      "[epoch124] trian_loss=8.71 train_maxp=0.70 valid_loss=8.44 valid_maxp=0.70 bps=388 *\n",
      "[epoch125] trian_loss=8.70 train_maxp=0.70 valid_loss=8.46 valid_maxp=0.70 bps=395 \n",
      "[epoch126] trian_loss=8.70 train_maxp=0.70 valid_loss=8.45 valid_maxp=0.70 bps=392 \n",
      "[epoch127] trian_loss=8.70 train_maxp=0.70 valid_loss=8.47 valid_maxp=0.70 bps=386 \n",
      "[epoch128] trian_loss=8.70 train_maxp=0.70 valid_loss=8.46 valid_maxp=0.70 bps=389 \n",
      "[epoch129] trian_loss=8.69 train_maxp=0.70 valid_loss=8.46 valid_maxp=0.70 bps=387 \n",
      "[epoch130] trian_loss=8.69 train_maxp=0.70 valid_loss=8.44 valid_maxp=0.70 bps=388 \n",
      "[epoch131] trian_loss=8.69 train_maxp=0.70 valid_loss=8.45 valid_maxp=0.70 bps=385 \n",
      "[epoch132] trian_loss=8.69 train_maxp=0.70 valid_loss=8.45 valid_maxp=0.70 bps=392 \n",
      "[epoch133] trian_loss=8.68 train_maxp=0.70 valid_loss=8.47 valid_maxp=0.70 bps=392 \n",
      "[epoch134] trian_loss=8.68 train_maxp=0.70 valid_loss=8.47 valid_maxp=0.70 bps=380 \n",
      "[epoch135] trian_loss=8.68 train_maxp=0.70 valid_loss=8.43 valid_maxp=0.70 bps=389 *\n",
      "[epoch136] trian_loss=8.67 train_maxp=0.70 valid_loss=8.44 valid_maxp=0.70 bps=391 \n",
      "[epoch137] trian_loss=8.67 train_maxp=0.70 valid_loss=8.47 valid_maxp=0.70 bps=386 \n",
      "[epoch138] trian_loss=8.67 train_maxp=0.70 valid_loss=8.45 valid_maxp=0.71 bps=390 \n",
      "[epoch139] trian_loss=8.67 train_maxp=0.70 valid_loss=8.43 valid_maxp=0.70 bps=392 \n",
      "[epoch140] trian_loss=8.67 train_maxp=0.70 valid_loss=8.40 valid_maxp=0.70 bps=388 *\n",
      "[epoch141] trian_loss=8.66 train_maxp=0.70 valid_loss=8.42 valid_maxp=0.70 bps=395 \n",
      "[epoch142] trian_loss=8.66 train_maxp=0.70 valid_loss=8.43 valid_maxp=0.70 bps=392 \n",
      "[epoch143] trian_loss=8.66 train_maxp=0.70 valid_loss=8.46 valid_maxp=0.70 bps=395 \n",
      "[epoch144] trian_loss=8.66 train_maxp=0.70 valid_loss=8.44 valid_maxp=0.70 bps=395 \n",
      "[epoch145] trian_loss=8.65 train_maxp=0.70 valid_loss=8.40 valid_maxp=0.70 bps=393 \n",
      "[epoch146] trian_loss=8.65 train_maxp=0.71 valid_loss=8.41 valid_maxp=0.70 bps=392 \n",
      "[epoch147] trian_loss=8.65 train_maxp=0.71 valid_loss=8.41 valid_maxp=0.70 bps=384 \n",
      "[epoch148] trian_loss=8.65 train_maxp=0.71 valid_loss=8.41 valid_maxp=0.70 bps=390 \n",
      "[epoch149] trian_loss=8.65 train_maxp=0.71 valid_loss=8.42 valid_maxp=0.70 bps=385 \n",
      "[epoch150] trian_loss=8.65 train_maxp=0.71 valid_loss=8.42 valid_maxp=0.70 bps=392 \n",
      "[epoch151] trian_loss=8.64 train_maxp=0.71 valid_loss=8.38 valid_maxp=0.70 bps=393 *\n",
      "[epoch152] trian_loss=8.64 train_maxp=0.71 valid_loss=8.40 valid_maxp=0.70 bps=394 \n",
      "[epoch153] trian_loss=8.64 train_maxp=0.71 valid_loss=8.40 valid_maxp=0.70 bps=389 \n",
      "[epoch154] trian_loss=8.64 train_maxp=0.71 valid_loss=8.40 valid_maxp=0.71 bps=393 \n",
      "[epoch155] trian_loss=8.64 train_maxp=0.71 valid_loss=8.42 valid_maxp=0.71 bps=389 \n",
      "[epoch156] trian_loss=8.63 train_maxp=0.71 valid_loss=8.41 valid_maxp=0.71 bps=395 \n",
      "[epoch157] trian_loss=8.63 train_maxp=0.71 valid_loss=8.42 valid_maxp=0.71 bps=390 \n",
      "[epoch158] trian_loss=8.63 train_maxp=0.71 valid_loss=8.44 valid_maxp=0.71 bps=395 \n",
      "[epoch159] trian_loss=8.63 train_maxp=0.71 valid_loss=8.40 valid_maxp=0.70 bps=397 \n",
      "[epoch160] trian_loss=8.63 train_maxp=0.71 valid_loss=8.41 valid_maxp=0.71 bps=385 \n",
      "[epoch161] trian_loss=8.63 train_maxp=0.71 valid_loss=8.38 valid_maxp=0.70 bps=395 \n",
      "[epoch162] trian_loss=8.62 train_maxp=0.71 valid_loss=8.37 valid_maxp=0.70 bps=397 *\n",
      "[epoch163] trian_loss=8.62 train_maxp=0.71 valid_loss=8.38 valid_maxp=0.70 bps=393 \n",
      "[epoch164] trian_loss=8.62 train_maxp=0.71 valid_loss=8.38 valid_maxp=0.70 bps=391 \n",
      "[epoch165] trian_loss=8.62 train_maxp=0.71 valid_loss=8.41 valid_maxp=0.71 bps=380 \n",
      "[epoch166] trian_loss=8.62 train_maxp=0.71 valid_loss=8.39 valid_maxp=0.70 bps=402 \n",
      "[epoch167] trian_loss=8.62 train_maxp=0.71 valid_loss=8.38 valid_maxp=0.70 bps=397 \n"
     ]
    },
    {
     "name": "stdout",
     "output_type": "stream",
     "text": [
      "[epoch168] trian_loss=8.62 train_maxp=0.71 valid_loss=8.41 valid_maxp=0.71 bps=397 \n",
      "[epoch169] trian_loss=8.61 train_maxp=0.71 valid_loss=8.39 valid_maxp=0.71 bps=396 \n",
      "[epoch170] trian_loss=8.61 train_maxp=0.71 valid_loss=8.38 valid_maxp=0.70 bps=391 \n",
      "[epoch171] trian_loss=8.61 train_maxp=0.71 valid_loss=8.35 valid_maxp=0.70 bps=398 *\n",
      "[epoch172] trian_loss=8.61 train_maxp=0.71 valid_loss=8.39 valid_maxp=0.70 bps=386 \n",
      "[epoch173] trian_loss=8.61 train_maxp=0.71 valid_loss=8.41 valid_maxp=0.71 bps=381 \n",
      "[epoch174] trian_loss=8.61 train_maxp=0.71 valid_loss=8.37 valid_maxp=0.70 bps=381 \n",
      "[epoch175] trian_loss=8.61 train_maxp=0.71 valid_loss=8.40 valid_maxp=0.71 bps=390 \n",
      "[epoch176] trian_loss=8.60 train_maxp=0.71 valid_loss=8.39 valid_maxp=0.71 bps=387 \n",
      "[epoch177] trian_loss=8.60 train_maxp=0.71 valid_loss=8.37 valid_maxp=0.70 bps=381 \n",
      "[epoch178] trian_loss=8.60 train_maxp=0.71 valid_loss=8.35 valid_maxp=0.70 bps=386 \n",
      "[epoch179] trian_loss=8.60 train_maxp=0.71 valid_loss=8.40 valid_maxp=0.71 bps=388 \n",
      "[epoch180] trian_loss=8.60 train_maxp=0.71 valid_loss=8.34 valid_maxp=0.70 bps=382 \n",
      "[epoch181] trian_loss=8.60 train_maxp=0.71 valid_loss=8.35 valid_maxp=0.70 bps=385 \n",
      "[epoch182] trian_loss=8.60 train_maxp=0.71 valid_loss=8.37 valid_maxp=0.70 bps=384 \n",
      "[epoch183] trian_loss=8.60 train_maxp=0.71 valid_loss=8.39 valid_maxp=0.71 bps=383 \n",
      "[epoch184] trian_loss=8.59 train_maxp=0.71 valid_loss=8.37 valid_maxp=0.71 bps=386 \n",
      "[epoch185] trian_loss=8.59 train_maxp=0.71 valid_loss=8.41 valid_maxp=0.71 bps=383 \n",
      "[epoch186] trian_loss=8.59 train_maxp=0.71 valid_loss=8.37 valid_maxp=0.71 bps=387 \n",
      "[epoch187] trian_loss=8.59 train_maxp=0.71 valid_loss=8.36 valid_maxp=0.70 bps=383 \n",
      "[epoch188] trian_loss=8.59 train_maxp=0.71 valid_loss=8.35 valid_maxp=0.71 bps=386 \n",
      "[epoch189] trian_loss=8.59 train_maxp=0.71 valid_loss=8.31 valid_maxp=0.70 bps=386 *\n",
      "[epoch190] trian_loss=8.59 train_maxp=0.71 valid_loss=8.35 valid_maxp=0.70 bps=389 \n",
      "[epoch191] trian_loss=8.58 train_maxp=0.71 valid_loss=8.36 valid_maxp=0.71 bps=403 \n",
      "[epoch192] trian_loss=8.58 train_maxp=0.71 valid_loss=8.39 valid_maxp=0.71 bps=390 \n",
      "[epoch193] trian_loss=8.58 train_maxp=0.71 valid_loss=8.36 valid_maxp=0.71 bps=387 \n",
      "[epoch194] trian_loss=8.58 train_maxp=0.71 valid_loss=8.35 valid_maxp=0.71 bps=386 \n",
      "[epoch195] trian_loss=8.58 train_maxp=0.71 valid_loss=8.34 valid_maxp=0.70 bps=381 \n",
      "[epoch196] trian_loss=8.58 train_maxp=0.71 valid_loss=8.36 valid_maxp=0.71 bps=385 \n",
      "[epoch197] trian_loss=8.58 train_maxp=0.71 valid_loss=8.37 valid_maxp=0.71 bps=383 \n",
      "[epoch198] trian_loss=8.58 train_maxp=0.71 valid_loss=8.36 valid_maxp=0.71 bps=382 \n",
      "[epoch199] trian_loss=8.58 train_maxp=0.71 valid_loss=8.32 valid_maxp=0.70 bps=390 \n",
      "Training Done\n",
      "WARNING:tensorflow:From /home/user/summer/gumbelcodes/testenv/lib/python3.6/site-packages/tensorflow/python/ops/init_ops.py:1251: calling VarianceScaling.__init__ (from tensorflow.python.ops.init_ops) with dtype is deprecated and will be removed in a future version.\n",
      "Instructions for updating:\n",
      "Call initializer instance with the dtype argument instead of passing it to the constructor\n",
      "WARNING:tensorflow:From /home/user/summer/gumbelcodes/testenv/lib/python3.6/site-packages/tensorflow/python/training/saver.py:1276: checkpoint_exists (from tensorflow.python.training.checkpoint_management) is deprecated and will be removed in a future version.\n",
      "Instructions for updating:\n",
      "Use standard file APIs to check for files with this prefix.\n",
      "INFO:tensorflow:Restoring parameters from data/glove.6B.300d\n"
     ]
    },
    {
     "name": "stderr",
     "output_type": "stream",
     "text": [
      "2019-12-27 01:00:20.285 | DEBUG    | gumbelcodes.nncompress.pipeline:train:79 - Mean euclidean distance:\n"
     ]
    },
    {
     "name": "stdout",
     "output_type": "stream",
     "text": [
      "INFO:tensorflow:Restoring parameters from data/glove.6B.300d\n"
     ]
    }
   ],
   "source": [
    "from gumbelcodes.nncompress.pipeline import Pipeline as gumbelcodesPipeline\n",
    "\n",
    "target_path = \"data/glove.6B.300d.npy\"\n",
    "\n",
    "options = {\n",
    "            \"codebook_prefix\": \"data/glove.6B.300d\",\n",
    "            \"dimension\": 300,\n",
    "            \"source_path\": glove_path,\n",
    "            \"target_path\": target_path,\n",
    "            \"logging\": True\n",
    "        }\n",
    "\n",
    "pipe = gumbelcodesPipeline(**options)\n",
    "\n",
    "pipe.get_embeddings()\n",
    "pipe.train()"
   ]
  },
  {
   "cell_type": "code",
   "execution_count": 4,
   "metadata": {},
   "outputs": [
    {
     "data": {
      "text/plain": [
       "457"
      ]
     },
     "execution_count": 4,
     "metadata": {},
     "output_type": "execute_result"
    }
   ],
   "source": [
    "get_size_in_MB(target_path)"
   ]
  },
  {
   "cell_type": "code",
   "execution_count": 4,
   "metadata": {},
   "outputs": [
    {
     "data": {
      "text/plain": [
       "29"
      ]
     },
     "execution_count": 4,
     "metadata": {},
     "output_type": "execute_result"
    }
   ],
   "source": [
    "codes_path = 'data/glove.6B.300d.codes'\n",
    "codebook_path = 'data/glove.6B.300d.codebook.npy'\n",
    "get_size_in_MB(codes_path) + get_size_in_MB(codebook_path)"
   ]
  },
  {
   "cell_type": "code",
   "execution_count": 5,
   "metadata": {},
   "outputs": [],
   "source": [
    "\n",
    "words_path = 'data/glove.6B.300d.words'\n",
    "target_path = 'data/compressed_glove.6B.300d.txt'\n",
    "expand_from_files(words_path, codes_path, codebook_path, target_path)\n"
   ]
  },
  {
   "cell_type": "code",
   "execution_count": 6,
   "metadata": {},
   "outputs": [
    {
     "name": "stdout",
     "output_type": "stream",
     "text": [
      "WARNING:tensorflow:From /home/user/summer/gumbelcodes/testenv/lib/python3.6/site-packages/keras/backend/tensorflow_backend.py:422: The name tf.global_variables is deprecated. Please use tf.compat.v1.global_variables instead.\n",
      "\n"
     ]
    }
   ],
   "source": [
    "glove_path = target_path\n",
    "\n",
    "english = en_core_web_sm.load()\n",
    "sentiment = SentimentPipeline(nlp=english, path=glove_path)\n",
    "result = sentiment.execute_sentiment_pipeline()"
   ]
  },
  {
   "cell_type": "code",
   "execution_count": 7,
   "metadata": {},
   "outputs": [
    {
     "data": {
      "text/plain": [
       "(<keras.callbacks.callbacks.History at 0x7f2a68ddbf98>,\n",
       " {'Matthews correlation coefficient': 0.5130897064443432,\n",
       "  'Accuracy score': 0.7566326281330923})"
      ]
     },
     "execution_count": 7,
     "metadata": {},
     "output_type": "execute_result"
    }
   ],
   "source": [
    "result"
   ]
  },
  {
   "cell_type": "code",
   "execution_count": 3,
   "metadata": {},
   "outputs": [
    {
     "name": "stderr",
     "output_type": "stream",
     "text": [
      "2019-12-27 05:01:05.729 | DEBUG    | gumbelcodes.utils.matutils:trim:43 - max_rep = 16 - rounded down to 15\n"
     ]
    },
    {
     "data": {
      "text/plain": [
       "2"
      ]
     },
     "execution_count": 3,
     "metadata": {},
     "output_type": "execute_result"
    }
   ],
   "source": [
    "from gumbelcodes.utils.matutils import trim\n",
    "npz_target_path = 'data/glove.6B.300d.npz'\n",
    "\n",
    "trim(codes_path, codebook_path, npz_target_path)\n",
    "get_size_in_MB(npz_target_path)"
   ]
  },
  {
   "cell_type": "code",
   "execution_count": 1,
   "metadata": {},
   "outputs": [],
   "source": [
    "\n",
    "from gumbelcodes.utils.fileutils import decompress, expand\n",
    "\n",
    "npz_target_path = 'data/glove.6B.300d.npz'\n",
    "codes, codebook = decompress(npz_target_path)\n",
    "\n",
    "words_path = 'data/glove.6B.300d.words'\n",
    "expanded_file_target_path = 'data/quantized_glove.6B.300d.txt'\n",
    "\n",
    "expand(words_path, codes, codebook, expanded_file_target_path)"
   ]
  },
  {
   "cell_type": "code",
   "execution_count": 4,
   "metadata": {},
   "outputs": [
    {
     "data": {
      "text/plain": [
       "1306"
      ]
     },
     "execution_count": 4,
     "metadata": {},
     "output_type": "execute_result"
    }
   ],
   "source": [
    "get_size_in_MB(expanded_file_target_path)"
   ]
  },
  {
   "cell_type": "code",
   "execution_count": 8,
   "metadata": {},
   "outputs": [],
   "source": [
    "glove_path = expanded_file_target_path\n",
    "\n",
    "english = en_core_web_sm.load()\n",
    "sentiment = SentimentPipeline(nlp=english, path=glove_path)"
   ]
  },
  {
   "cell_type": "code",
   "execution_count": 10,
   "metadata": {},
   "outputs": [
    {
     "name": "stdout",
     "output_type": "stream",
     "text": [
      "WARNING:tensorflow:From /home/user/summer/gumbelcodes/testenv/lib/python3.6/site-packages/keras/backend/tensorflow_backend.py:422: The name tf.global_variables is deprecated. Please use tf.compat.v1.global_variables instead.\n",
      "\n"
     ]
    }
   ],
   "source": [
    "result = sentiment.execute_sentiment_pipeline()"
   ]
  },
  {
   "cell_type": "code",
   "execution_count": 11,
   "metadata": {},
   "outputs": [
    {
     "data": {
      "text/plain": [
       "(<keras.callbacks.callbacks.History at 0x7fd1e6eaaf98>,\n",
       " {'Matthews correlation coefficient': 0.47883885477247834,\n",
       "  'Accuracy score': 0.7283431865930522})"
      ]
     },
     "execution_count": 11,
     "metadata": {},
     "output_type": "execute_result"
    }
   ],
   "source": [
    "result"
   ]
  },
  {
   "cell_type": "code",
   "execution_count": null,
   "metadata": {},
   "outputs": [],
   "source": []
  }
 ],
 "metadata": {
  "kernelspec": {
   "display_name": "Python 3",
   "language": "python",
   "name": "python3"
  },
  "language_info": {
   "codemirror_mode": {
    "name": "ipython",
    "version": 3
   },
   "file_extension": ".py",
   "mimetype": "text/x-python",
   "name": "python",
   "nbconvert_exporter": "python",
   "pygments_lexer": "ipython3",
   "version": "3.6.10"
  }
 },
 "nbformat": 4,
 "nbformat_minor": 2
}
